{
 "cells": [
  {
   "cell_type": "code",
   "execution_count": 6,
   "id": "dd717a23",
   "metadata": {},
   "outputs": [],
   "source": [
    "from langchain_ollama.chat_models import ChatOllama\n",
    "from langchain.schema import HumanMessage, SystemMessage\n",
    "from langchain.callbacks.base import BaseCallbackHandler"
   ]
  },
  {
   "cell_type": "code",
   "execution_count": 7,
   "id": "802929da",
   "metadata": {},
   "outputs": [],
   "source": [
    "class WSCallbackHandler(BaseCallbackHandler):\n",
    "    def __init__(self):\n",
    "        self.tokens = []\n",
    "\n",
    "    async def on_llm_new_token(self, token: str, **kwargs):\n",
    "        self.tokens.append(token)\n",
    "        print(\"Received new token: \", token)\n",
    "\n",
    "    def get_tokens(self):\n",
    "        return self.tokens"
   ]
  },
  {
   "cell_type": "code",
   "execution_count": 11,
   "id": "3ea7a61e",
   "metadata": {},
   "outputs": [],
   "source": [
    "from typing import AsyncGenerator\n",
    "\n",
    "\n",
    "async def stream_agent(question: str) -> AsyncGenerator[str, None]:\n",
    "    callback = WSCallbackHandler()\n",
    "    model = ChatOllama(\n",
    "        model=\"qwen3\",\n",
    "        temperature=0.7,\n",
    "        callbacks=[callback],\n",
    "        reasoning=False,\n",
    "    )\n",
    "    messages = [HumanMessage(content=question)]\n",
    "    for chunk in model.stream(messages):\n",
    "        yield chunk.content\n"
   ]
  },
  {
   "cell_type": "code",
   "execution_count": 13,
   "id": "1be9d444",
   "metadata": {},
   "outputs": [],
   "source": [
    "from IPython.display import Markdown, display"
   ]
  },
  {
   "cell_type": "code",
   "execution_count": 14,
   "id": "f40024a3",
   "metadata": {},
   "outputs": [
    {
     "data": {
      "text/markdown": [
       "My name is Qwen, and I am a large-scale language model developed by Alibaba Cloud. I am designed to assist with a wide range of tasks, such as answering questions, writing articles, and engaging in conversations. How can I assist you today?"
      ],
      "text/plain": [
       "<IPython.core.display.Markdown object>"
      ]
     },
     "metadata": {},
     "output_type": "display_data"
    }
   ],
   "source": [
    "text = \"\"\n",
    "async for chunk in stream_agent(\"What is your name?\"):\n",
    "    text += chunk\n",
    "    display(Markdown(text), clear=True)"
   ]
  },
  {
   "cell_type": "code",
   "execution_count": 15,
   "id": "22ce7c54",
   "metadata": {},
   "outputs": [],
   "source": [
    "import os\n",
    "from langchain.document_loaders import CSVLoader, JSONLoader\n",
    "from langchain.text_splitter import RecursiveCharacterTextSplitter\n",
    "from langchain_ollama import OllamaEmbeddings\n",
    "from langchain.vectorstores import FAISS"
   ]
  },
  {
   "cell_type": "code",
   "execution_count": null,
   "id": "c7d71091",
   "metadata": {},
   "outputs": [],
   "source": [
    "def get_documents():\n",
    "    docs = []\n",
    "\n",
    "    for filename in os.listdir(\"../base_docs\"):\n",
    "        path = os.path.join(\"../base_docs\", filename)\n",
    "        if filename.endswith(\".csv\"):\n",
    "            doc = CSVLoader(file_path=path)\n",
    "            docs.extend(doc.load())\n",
    "        elif filename.endswith(\".json\"):\n",
    "            doc = JSONLoader(file_path=path, jq_schema=\".\", text_content=False)\n",
    "            docs.extend(doc.load())\n",
    "    return docs"
   ]
  },
  {
   "cell_type": "code",
   "execution_count": 61,
   "id": "2699e770",
   "metadata": {},
   "outputs": [],
   "source": [
    "def get_vectorstore():\n",
    "    documents = get_documents()\n",
    "    splitter = RecursiveCharacterTextSplitter(chunk_size=1000, chunk_overlap=100)\n",
    "    chunks = splitter.split_documents(documents)\n",
    "    embeddings = OllamaEmbeddings(model=\"mxbai-embed-large:latest\")\n",
    "    vectorstore = FAISS.from_documents(chunks, embeddings)\n",
    "    return vectorstore"
   ]
  },
  {
   "cell_type": "code",
   "execution_count": 62,
   "id": "14ea33f6",
   "metadata": {},
   "outputs": [],
   "source": [
    "docs = get_documents()"
   ]
  },
  {
   "cell_type": "code",
   "execution_count": 63,
   "id": "dcee783e",
   "metadata": {},
   "outputs": [],
   "source": [
    "vectorestore = get_vectorstore()\n",
    "retriever = vectorestore.as_retriever(search_kwargs={\"k\": 5})\n"
   ]
  },
  {
   "cell_type": "code",
   "execution_count": 64,
   "id": "fc9a4694",
   "metadata": {},
   "outputs": [],
   "source": [
    "vectorestore.save_local(\"faiss_index\")"
   ]
  },
  {
   "cell_type": "code",
   "execution_count": 72,
   "id": "d88cbfae",
   "metadata": {},
   "outputs": [],
   "source": [
    "embeddings = OllamaEmbeddings(model=\"mxbai-embed-large:latest\")\n",
    "vectorestore = FAISS.load_local(\"faiss_index\", embeddings, allow_dangerous_deserialization=True)\n",
    "retriever = vectorestore.as_retriever(search_kwargs={\"k\": 1})"
   ]
  },
  {
   "cell_type": "code",
   "execution_count": 74,
   "id": "cfad9039",
   "metadata": {},
   "outputs": [
    {
     "data": {
      "text/plain": [
       "('DE PROGRAMACION\", \"groups\": [{\"code\": \"1\", \"schedule\": [{\"day\": \"LU\", \"start\": \"1115\", \"end\": \"1245\", \"duration\": 2, \"room\": \"652\", \"teacher\": \"FLORES VILLARROEL CORINA\", \"isClass\": true}, {\"day\": \"MA\", \"start\": \"815\", \"end\": \"945\", \"duration\": 2, \"room\": \"625D\", \"teacher\": \"FLORES VILLARROEL CORINA\", \"isClass\": true}, {\"day\": \"MI\", \"start\": \"815\", \"end\": \"945\", \"duration\": 2, \"room\": \"652\", \"teacher\": \"FLORES VILLARROEL CORINA\", \"isClass\": true}], \"teacher\": \"FLORES VILLARROEL CORINA\"}, {\"code\": \"2\", \"schedule\": [{\"day\": \"LU\", \"start\": \"645\", \"end\": \"815\", \"duration\": 2, \"room\": \"INFLAB\", \"teacher\": \"MANZUR SORIA CARLOS B.\", \"isClass\": true}, {\"day\": \"VI\", \"start\": \"645\", \"end\": \"815\", \"duration\": 2, \"room\": \"651\", \"teacher\": \"MANZUR SORIA CARLOS B.\", \"isClass\": true}, {\"day\": \"SA\", \"start\": \"645\", \"end\": \"815\", \"duration\": 2, \"room\": \"651\", \"teacher\": \"MANZUR SORIA CARLOS B.\", \"isClass\": true}], \"teacher\": \"MANZUR SORIA CARLOS B.\"}, {\"code\": \"3\", \"schedule\": [{\"day\": \"LU\", \"start\":',\n",
       " [Document(id='8cf3fcea-e4ee-412b-a8e5-2f1d8f90e958', metadata={'source': '/home/willypaz/Workspace/working/checkibot/bot-service/base_docs/411702.json', 'seq_num': 1}, page_content='DE PROGRAMACION\", \"groups\": [{\"code\": \"1\", \"schedule\": [{\"day\": \"LU\", \"start\": \"1115\", \"end\": \"1245\", \"duration\": 2, \"room\": \"652\", \"teacher\": \"FLORES VILLARROEL CORINA\", \"isClass\": true}, {\"day\": \"MA\", \"start\": \"815\", \"end\": \"945\", \"duration\": 2, \"room\": \"625D\", \"teacher\": \"FLORES VILLARROEL CORINA\", \"isClass\": true}, {\"day\": \"MI\", \"start\": \"815\", \"end\": \"945\", \"duration\": 2, \"room\": \"652\", \"teacher\": \"FLORES VILLARROEL CORINA\", \"isClass\": true}], \"teacher\": \"FLORES VILLARROEL CORINA\"}, {\"code\": \"2\", \"schedule\": [{\"day\": \"LU\", \"start\": \"645\", \"end\": \"815\", \"duration\": 2, \"room\": \"INFLAB\", \"teacher\": \"MANZUR SORIA CARLOS B.\", \"isClass\": true}, {\"day\": \"VI\", \"start\": \"645\", \"end\": \"815\", \"duration\": 2, \"room\": \"651\", \"teacher\": \"MANZUR SORIA CARLOS B.\", \"isClass\": true}, {\"day\": \"SA\", \"start\": \"645\", \"end\": \"815\", \"duration\": 2, \"room\": \"651\", \"teacher\": \"MANZUR SORIA CARLOS B.\", \"isClass\": true}], \"teacher\": \"MANZUR SORIA CARLOS B.\"}, {\"code\": \"3\", \"schedule\": [{\"day\": \"LU\", \"start\":')])"
      ]
     },
     "execution_count": 74,
     "metadata": {},
     "output_type": "execute_result"
    }
   ],
   "source": [
    "context_docs = retriever.get_relevant_documents(query=\"Cual es el horario de Introducción a la programación\")\n",
    "context_text = \"\\n\\n\".join([doc.page_content for doc in context_docs])\n",
    "context_text, context_docs"
   ]
  },
  {
   "cell_type": "code",
   "execution_count": 67,
   "id": "e10f2dff",
   "metadata": {},
   "outputs": [
    {
     "data": {
      "text/plain": [
       "'DE PROGRAMACION\", \"groups\": [{\"code\": \"1\", \"schedule\": [{\"day\": \"LU\", \"start\": \"1115\", \"end\": \"1245\", \"duration\": 2, \"room\": \"652\", \"teacher\": \"FLORES VILLARROEL CORINA\", \"isClass\": true}, {\"day\": \"MA\", \"start\": \"815\", \"end\": \"945\", \"duration\": 2, \"room\": \"625D\", \"teacher\": \"FLORES VILLARROEL CORINA\", \"isClass\": true}, {\"day\": \"MI\", \"start\": \"815\", \"end\": \"945\", \"duration\": 2, \"room\": \"652\", \"teacher\": \"FLORES VILLARROEL CORINA\", \"isClass\": true}], \"teacher\": \"FLORES VILLARROEL CORINA\"}, {\"code\": \"2\", \"schedule\": [{\"day\": \"LU\", \"start\": \"645\", \"end\": \"815\", \"duration\": 2, \"room\": \"INFLAB\", \"teacher\": \"MANZUR SORIA CARLOS B.\", \"isClass\": true}, {\"day\": \"VI\", \"start\": \"645\", \"end\": \"815\", \"duration\": 2, \"room\": \"651\", \"teacher\": \"MANZUR SORIA CARLOS B.\", \"isClass\": true}, {\"day\": \"SA\", \"start\": \"645\", \"end\": \"815\", \"duration\": 2, \"room\": \"651\", \"teacher\": \"MANZUR SORIA CARLOS B.\", \"isClass\": true}], \"teacher\": \"MANZUR SORIA CARLOS B.\"}, {\"code\": \"3\", \"schedule\": [{\"day\": \"LU\", \"start\":\\n\\n\"1415\", \"end\": \"1545\", \"duration\": 2, \"room\": \"693A\", \"teacher\": \"POR DESIGNAR DOCENTE\", \"isClass\": true}, {\"day\": \"MA\", \"start\": \"1545\", \"end\": \"1715\", \"duration\": 2, \"room\": \"660\", \"teacher\": \"POR DESIGNAR DOCENTE\", \"isClass\": true}, {\"day\": \"JU\", \"start\": \"1245\", \"end\": \"1415\", \"duration\": 2, \"room\": \"661\", \"teacher\": \"POR DESIGNAR DOCENTE\", \"isClass\": false}], \"teacher\": \"POR DESIGNAR DOCENTE\"}]}, {\"code\": 2008054, \"name\": \"CALCULO I\", \"groups\": [{\"code\": \"10\", \"schedule\": [{\"day\": \"MI\", \"start\": \"2015\", \"end\": \"2145\", \"duration\": 2, \"room\": \"693B\", \"teacher\": \"POR DESIGNAR DOCENTE\", \"isClass\": true}, {\"day\": \"VI\", \"start\": \"2015\", \"end\": \"2145\", \"duration\": 2, \"room\": \"623\", \"teacher\": \"POR DESIGNAR DOCENTE\", \"isClass\": true}, {\"day\": \"SA\", \"start\": \"945\", \"end\": \"1115\", \"duration\": 2, \"room\": \"617C\", \"teacher\": \"POR DESIGNAR DOCENTE\", \"isClass\": true}], \"teacher\": \"POR DESIGNAR DOCENTE\"}, {\"code\": \"11\", \"schedule\": [{\"day\": \"LU\", \"start\": \"645\", \"end\": \"815\", \"duration\": 2,\\n\\n2, \"room\": \"642\", \"teacher\": \"PACHECO YPURANI CLAUDIA\", \"isClass\": false}, {\"day\": \"MA\", \"start\": \"1545\", \"end\": \"1715\", \"duration\": 2, \"room\": \"AULVIR\", \"teacher\": \"SORUCO MAITA JOSE ANTONIO\", \"isClass\": true}, {\"day\": \"VI\", \"start\": \"945\", \"end\": \"1115\", \"duration\": 2, \"room\": \"AULVIR\", \"teacher\": \"SORUCO MAITA JOSE ANTONIO\", \"isClass\": true}], \"teacher\": \"SORUCO MAITA JOSE ANTONIO\"}, {\"code\": \"5\", \"schedule\": [{\"day\": \"LU\", \"start\": \"2015\", \"end\": \"2145\", \"duration\": 2, \"room\": \"624\", \"teacher\": \"OMONTE OJALVO JOSE GIL\", \"isClass\": true}, {\"day\": \"MA\", \"start\": \"1715\", \"end\": \"1845\", \"duration\": 2, \"room\": \"692C\", \"teacher\": \"OMONTE OJALVO JOSE GIL\", \"isClass\": true}, {\"day\": \"JU\", \"start\": \"815\", \"end\": \"945\", \"duration\": 2, \"room\": \"690B\", \"teacher\": \"OMONTE OJALVO JOSE GIL\", \"isClass\": true}], \"teacher\": \"OMONTE OJALVO JOSE GIL\"}]}, {\"code\": 2010012, \"name\": \"METODOS TECNICAS Y TALLER DE PROGRAMACION\", \"groups\": [{\"code\": \"1\", \"schedule\": [{\"day\": \"LU\", \"start\": \"1115\", \"end\":\\n\\n\"1\", \"schedule\": [{\"day\": \"MA\", \"start\": \"1115\", \"end\": \"1245\", \"duration\": 2, \"room\": \"691F\", \"teacher\": \"ROMERO RODRIGUEZ PATRICIA\", \"isClass\": true}, {\"day\": \"MI\", \"start\": \"815\", \"end\": \"945\", \"duration\": 2, \"room\": \"690B\", \"teacher\": \"ROMERO RODRIGUEZ PATRICIA\", \"isClass\": true}, {\"day\": \"JU\", \"start\": \"815\", \"end\": \"945\", \"duration\": 2, \"room\": \"690C\", \"teacher\": \"ROMERO RODRIGUEZ PATRICIA\", \"isClass\": true}], \"teacher\": \"ROMERO RODRIGUEZ PATRICIA\"}, {\"code\": \"2\", \"schedule\": [{\"day\": \"LU\", \"start\": \"1545\", \"end\": \"1715\", \"duration\": 2, \"room\": \"692F\", \"teacher\": \"VILLARROEL NOVILLO JIMMY\", \"isClass\": true}, {\"day\": \"MA\", \"start\": \"815\", \"end\": \"945\", \"duration\": 2, \"room\": \"691D\", \"teacher\": \"VILLARROEL NOVILLO JIMMY\", \"isClass\": true}, {\"day\": \"MI\", \"start\": \"945\", \"end\": \"1115\", \"duration\": 2, \"room\": \"661\", \"teacher\": \"VILLARROEL NOVILLO JIMMY\", \"isClass\": true}], \"teacher\": \"VILLARROEL NOVILLO JIMMY\"}]}, {\"code\": 2016059, \"name\": \"GESTION ESTRATEGICA DE EMPRESAS\", \"groups\":\\n\\ntrue}], \"teacher\": \"CHOQUE FLORES ALEX D\\'ANCHGELO\"}]}, {\"code\": 2010147, \"name\": \"PRACTICA EMPRESARIAL\", \"groups\": [{\"code\": \"2\", \"schedule\": [{\"day\": \"LU\", \"start\": \"945\", \"end\": \"1115\", \"duration\": 2, \"room\": \"690E\", \"teacher\": \"ANTEZANA CAMACHO MARCELO\", \"isClass\": true}, {\"day\": \"MA\", \"start\": \"815\", \"end\": \"945\", \"duration\": 2, \"room\": \"INFLAB\", \"teacher\": \"ANTEZANA CAMACHO MARCELO\", \"isClass\": true}], \"teacher\": \"ANTEZANA CAMACHO MARCELO\"}]}, {\"code\": 2010174, \"name\": \"PROGRAMACION MOVIL\", \"groups\": [{\"code\": \"1\", \"schedule\": [{\"day\": \"MA\", \"start\": \"2015\", \"end\": \"2145\", \"duration\": 2, \"room\": \"691C\", \"teacher\": \"FIORILO LOZADA AMERICO\", \"isClass\": true}, {\"day\": \"VI\", \"start\": \"2015\", \"end\": \"2145\", \"duration\": 2, \"room\": \"691E\", \"teacher\": \"FIORILO LOZADA AMERICO\", \"isClass\": true}], \"teacher\": \"FIORILO LOZADA AMERICO\"}]}, {\"code\": 2010122, \"name\": \"PROYECTO FINAL\", \"groups\": [{\"code\": \"2\", \"schedule\": [{\"day\": \"MA\", \"start\": \"1115\", \"end\": \"1245\", \"duration\": 2, \"room\":'"
      ]
     },
     "execution_count": 67,
     "metadata": {},
     "output_type": "execute_result"
    }
   ],
   "source": [
    "context_text"
   ]
  },
  {
   "cell_type": "code",
   "execution_count": 68,
   "id": "1f7c39a4",
   "metadata": {},
   "outputs": [],
   "source": [
    "class Agent:\n",
    "    def __init__(self):\n",
    "        embeddings = OllamaEmbeddings(model=\"mxbai-embed-large:latest\")\n",
    "        self.vectorestore = FAISS.load_local(\"faiss_index\", embeddings, allow_dangerous_deserialization=True)\n",
    "        self.retriever = vectorestore.as_retriever(search_kwargs={\"k\": 5})\n",
    "\n",
    "    async def stream_agent_rag(self, question: str) -> AsyncGenerator[str, None]:\n",
    "        context_docs = self.retriever.get_relevant_documents(query=question)\n",
    "        context_text = \"\\n\\n\".join([doc.page_content for doc in context_docs])\n",
    "\n",
    "        callback = WSCallbackHandler()\n",
    "        model = ChatOllama(\n",
    "            model=\"qwen3\",\n",
    "            temperature=0.7,\n",
    "            callbacks=[callback],\n",
    "            reasoning=False,\n",
    "        )\n",
    "        messages = [\n",
    "            SystemMessage(\n",
    "                content=f\"Responde a la pregunta basado en el siguiente contexto: {context_text}\"\n",
    "            ),\n",
    "            HumanMessage(content=question),\n",
    "        ]\n",
    "        for chunk in model.stream(messages):\n",
    "            yield chunk.content\n"
   ]
  },
  {
   "cell_type": "code",
   "execution_count": 69,
   "id": "a0334adf",
   "metadata": {},
   "outputs": [],
   "source": [
    "agent = Agent()"
   ]
  },
  {
   "cell_type": "code",
   "execution_count": 77,
   "id": "fd167de2",
   "metadata": {},
   "outputs": [
    {
     "data": {
      "text/markdown": [
       "Los horarios de **\"CALCULO II\"** y sus grupos asignados son los siguientes:\n",
       "\n",
       "### **Materia: CALCULO II**\n",
       "#### **Grupo 6:**\n",
       "- **Día:** MI  \n",
       "  - **Hora:** 9:45 - 11:15  \n",
       "  - **Aula:** 691D  \n",
       "  - **Profesor:** TERRAZAS LOBO JUAN  \n",
       "- **Día:** JU  \n",
       "  - **Hora:** 14:15 - 15:45  \n",
       "  - **Aula:** 693A  \n",
       "  - **Profesor:** TERRAZAS LOBO JUAN  \n",
       "- **Día:** MI  \n",
       "  - **Hora:** 14:15 - 15:45  \n",
       "  - **Aula:** 625C  \n",
       "  - **Profesor:** SOSA MARZE DAVID SAUL  \n",
       "  - **Nota:** Esta clase no está asignada (isClass: false)\n",
       "\n",
       "#### **Grupo 6A:**\n",
       "- **Día:** LU  \n",
       "  - **Hora:** 12:45 - 14:15  \n",
       "  - **Aula:** 693D  \n",
       "  - **Profesor:** BUSTILLOS VARGAS ALEX ISRRAEL  \n",
       "- **Día:** MA  \n",
       "  - **Hora:** 9:45 - 11:15  \n",
       "  - **Aula:** 692D  \n",
       "  - **Profesor:** BUSTILLOS VARGAS ALEX ISRRAEL  \n",
       "\n",
       "### **Profesor Asignado:**\n",
       "- **Grupo 6:** TERRAZAS LOBO JUAN  \n",
       "- **Grupo 6A:** BUSTILLOS VARGAS ALEX ISRRAEL  \n",
       "\n",
       "Espera, parece que se interrumpió la información. Si deseas, puedo continuar con el resto de los grupos de **\"CALCULO II\"**."
      ],
      "text/plain": [
       "<IPython.core.display.Markdown object>"
      ]
     },
     "metadata": {},
     "output_type": "display_data"
    }
   ],
   "source": [
    "text = \"\"\n",
    "async for chunk in agent.stream_agent_rag(\n",
    "    \"Dame los horarios de Calculo II y sus grupos asignados\"\n",
    "):\n",
    "    text += chunk\n",
    "    display(Markdown(text), clear=True)"
   ]
  },
  {
   "cell_type": "code",
   "execution_count": null,
   "id": "97edaa32",
   "metadata": {},
   "outputs": [],
   "source": []
  }
 ],
 "metadata": {
  "kernelspec": {
   "display_name": ".venv",
   "language": "python",
   "name": "python3"
  },
  "language_info": {
   "codemirror_mode": {
    "name": "ipython",
    "version": 3
   },
   "file_extension": ".py",
   "mimetype": "text/x-python",
   "name": "python",
   "nbconvert_exporter": "python",
   "pygments_lexer": "ipython3",
   "version": "3.12.10"
  }
 },
 "nbformat": 4,
 "nbformat_minor": 5
}
